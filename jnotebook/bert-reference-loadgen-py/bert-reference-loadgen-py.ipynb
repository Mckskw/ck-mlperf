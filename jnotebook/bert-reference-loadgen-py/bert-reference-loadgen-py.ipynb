{
 "cells": [
  {
   "cell_type": "markdown",
   "metadata": {},
   "source": [
    "# [PUBLIC] BERT\n",
    "\n",
    "# Table of Contents\n",
    "\n",
    "1. [Installation](#install)\n",
    "  1. [Install CK](#install_ck)\n",
    "  1. [Install CK repository](#install_ck_repos)\n",
    "  1. [Install necessary packages](#install_ck_repos)\n",
    "1. [Run scripts](#run_scripts)\n",
    "  1. [Create folder for datasets](#create_folder)\n",
    "  1. [Run bert-reference-loadgen-py](#run_bert_reference_loadgen_py)\n",
    "  1. [dev-v1.1.json](#dev-v1_1_json)\n",
    "  1. [vocab.txt](#vocab_model)\n",
    "  1. [Run bert-squad-torch-py](#run_bert_squad_torch_py)"
   ]
  },
  {
   "cell_type": "markdown",
   "metadata": {},
   "source": [
    "<a name=\"install\"></a>\n",
    "# Installation"
   ]
  },
  {
   "cell_type": "markdown",
   "metadata": {},
   "source": [
    "<a name=\"install_ck\"></a>\n",
    "##  Install CK\n",
    "<pre>It is necessarily to have CK version = 1.55.3</pre>\n",
    "<pre><font color=\"#4E9A06\"><b>maria@velociti</b></font>:<font color=\"#3465A4\"><b>~</b></font>&dollar;python3 -m pip install ck==1.55.3 --ignore-installed --user\n",
    "\n",
    "Processing ./.cache/pip/wheels/7a/f9/f1/26b8cd6c46b8681afc6c9063f9eb8cfebe34ccade91376b158/ck-1.55.3-py3-none-any.whl\n",
    "Installing collected packages: ck\n",
    "Successfully installed ck-1.55.3"
   ]
  },
  {
   "cell_type": "markdown",
   "metadata": {},
   "source": [
    "<a name=\"install_ck_repos\"></a>\n",
    "## Install CK repository\n",
    "\n",
    "<pre>\n",
    "<font color=\"#4E9A06\"><b>maria@velociti</b></font>:<font color=\"#3465A4\"><b>~</b></font>&dollar;ck pull repo --url=https://github.com/krai/ck-mlperf"
   ]
  },
  {
   "cell_type": "markdown",
   "metadata": {},
   "source": [
    "<a name=\"install_ck_repos\"></a>\n",
    "## Install necessary packages\n",
    "<pre>\n",
    "<font color=\"#4E9A06\"><b>maria@velociti</b></font>:<font color=\"#3465A4\"><b>~</b></font>&dollar;ck install package --tags=mlperf,inference,source,dividiti.bert"
   ]
  },
  {
   "cell_type": "markdown",
   "metadata": {},
   "source": [
    "<a name=\"run_scripts\"></a>\n",
    "# Run scripts"
   ]
  },
  {
   "cell_type": "markdown",
   "metadata": {},
   "source": [
    "<a name=\"create_folder\"></a>\n",
    "## Create folder for datasets\n",
    "\n",
    "<pre><font color=\"#4E9A06\"><b>maria@velociti</b></font>:<font color=\"#3465A4\"><b>~</b></font>&dollar;sudo mkdir -p /datasets/maria/bert_large_data\n",
    "</pre>\n",
    "<pre>It is not necessary. Use the created folder “lg4”.\n",
    "</pre>"
   ]
  },
  {
   "cell_type": "markdown",
   "metadata": {},
   "source": [
    "<a name=\"run_bert_reference_loadgen_py\"></a>\n",
    "## Run bert-reference-loadgen-py\n",
    "\n",
    "<pre>--env.CK_DISABLE_CUDA=1 is enabled only if computer does not have a GPU or a fully working NVidia stack.\n",
    "</pre>\n",
    "<pre><font color=\"#4E9A06\"><b>maria@velociti</b></font>:<font color=\"#3465A4\"><b>~</b></font>&dollar;time ck run program:bert-reference-loadgen-py --cmd_key=default --env.CK_BERT_DATA=/datasets/lg4/bert_large_data --env.CK_DISABLE_CUDA=1 --env.CK_LOADGEN_MODE=AccuracyOnly --env.CK_LOADGEN_MAX_EXAMPLES=10\n",
    "\n",
    "...\n",
    "*** Dependency 5 = lib-python-pytorch (Python Torch library):\n",
    " \n",
    "More than one environment found for \"Python Torch library\" with tags=\"lib,python-package,pytorch\" and setup={\"host_os_uoa\": \"linux-64\", \"target_os_uoa\": \"linux-64\", \"target_os_bits\": \"64\"}:\n",
    " 0) Python Torch library - v1.8.1 (64bits,host-os-linux-64,lib,needs-python,needs-python-3.8.10,python-package,pytorch,target-os-linux-64,torch,v1,v1.8,v1.8.1 (e8705a824d5086a1)) - Depends on \"python\" (env UOA=9fea847070486395, tags=\"compiler,python\", version=3.8.10) \n",
    " 1) Python Torch library - v1.6.0 (64bits,host-os-linux-64,lib,needs-python,needs-python-3.8.5,python-package,pytorch,target-os-linux-64,torch,v1,v1.6,v1.6.0 (b0c48e2b82b4359d)) - Depends on \"python\" (env UOA=e5954ab6b725ae11, tags=\"compiler,python\", version=3.8.5)\n",
    " \n",
    " \n",
    "Select one of the options for \"Python Torch library\" with tags=\"lib,python-package,pytorch\" and setup={\"host_os_uoa\": \"linux-64\", \"target_os_uoa\": \"linux-64\", \"target_os_bits\": \"64\"}\n",
    " <font><b>[ hit return for \"0\" ]: 0 </b></font>\n",
    "...\n",
    "Writing predictions to: build/result/predictions.json\n",
    "Evaluating predictions...\n",
    " <font><b>{\"exact_match\": 70.0, \"f1\": 70.0}</b></font>\n",
    "\n",
    "Done!\n",
    "Destroying SUT...\n",
    "Destroying QSL...\n",
    "Finished destroying SUT.\n",
    "Finished destroying QSL.\n",
    " \n",
    "Execution time: 25.572 sec.\n",
    " \n",
    "real    2m29.390s\n",
    "user    1m22.291s\n",
    "sys     0m3.932s\n",
    "\n",
    "</pre>"
   ]
  },
  {
   "cell_type": "markdown",
   "metadata": {},
   "source": [
    "<a name=\"dev-v1_1_json\"></a>\n",
    "## dev-v1.1.json\n",
    "\n",
    "<pre>\n",
    "<font color=\"#4E9A06\"><b>maria@velociti</b></font>:<font color=\"#3465A4\"><b>~</b></font>&dollar;jq &lt;/data/lg4/bert_large_data/dev-v1.1.json | less\n",
    "\n",
    "It contains topics, contexts, questions and answers for BERT model.\n",
    "For example:\n",
    "{\n",
    "  \"data\": [\n",
    "    {\n",
    "      \"title\": \"Super_Bowl_50\",     # topic\n",
    "      \"paragraphs\": [\n",
    "        {                 # text for answer searching \n",
    "          \"context\": \"Super Bowl 50 was an American football game to determine the champion of the National Football League (NFL) for the 2015 season. The American Football Conference (AFC) champion Denver Broncos defeated the National Football Conference (NFC) champion Carolina Panthers 24–10 to earn their third Super Bowl title. The game was played on February 7, 2016, at Levi's Stadium in the San Francisco Bay Area at Santa Clara, California. As this was the 50th Super Bowl, the league emphasized the \\\"golden anniversary\\\" with various gold-themed initiatives, as well as temporarily suspending the tradition of naming each Super Bowl game with Roman numerals (under which the game would have been known as \\\"Super Bowl L\\\"), so that the logo could prominently feature the Arabic numerals 50.\",\n",
    "          \"qas\": [\n",
    "            {\n",
    "              \"answers\": [\n",
    "                {\n",
    "                  \"answer_start\": 177,  # index of the first word within the encoded context where the response begins\n",
    "                  \"text\": \"Denver Broncos\" # answer\n",
    "                },\n",
    "                {\n",
    "                  \"answer_start\": 177,\n",
    "                  \"text\": \"Denver Broncos\"\n",
    "                },\n",
    "                {\n",
    "                  \"answer_start\": 177,\n",
    "                  \"text\": \"Denver Broncos\"\n",
    "                }\n",
    "              ],\n",
    "              \"question\": \"Which NFL team represented the AFC at Super Bowl 50?\",  # question\n",
    "              \"id\": \"56be4db0acb8001400a502ec\"  #unique question id\n",
    "            },\n",
    "..."
   ]
  },
  {
   "cell_type": "markdown",
   "metadata": {},
   "source": [
    "<a name=\"vocab_model\"></a>\n",
    "## vocab.txt\n",
    "\n",
    "<pre>\n",
    "vocab.txt contains vocabulary for model.\n",
    "<font color=\"#4E9A06\"><b>maria@velociti</b></font>:<font color=\"#3465A4\"><b>~</b></font>&dollar;cd /data/lg4/bert_large_data/bert_tf_v1_1_large_fp32_384_v2\n",
    "\n",
    "<font color=\"#4E9A06\"><b>maria@velociti</b></font>:<font color=\"#3465A4\"><b>/data/lg4/bert_large_data/bert_tf_v1_1_large_fp32_384_v2</b></font>&dollar;less -N vocab.txt\n",
    "\n",
    " 1 [PAD]\n",
    " 2 [unused0]\n",
    " 3 [unused1]\n",
    " ...\n",
    " 1000 !\n",
    " 1001 \"\n",
    " 1002 #\n",
    " 1003 $\n",
    " 1004 %\n",
    " ...\n",
    "</pre>"
   ]
  },
  {
   "cell_type": "markdown",
   "metadata": {},
   "source": [
    "<a name=\"run_bert_squad_torch_py\"></a>\n",
    "## Run bert-squad-torch-py\n",
    "\n",
    "CK_BATCH_COUNT=10 - count of examples\n",
    "<pre><font color=\"#4E9A06\"><b>maria@velociti</b></font>:<font color=\"#3465A4\"><b>~</b></font>&dollar;ck run program:bert-squad-torch-py --env.CK_BATCH_COUNT=10\n",
    "...\n",
    "\n",
    "Vocabulary size: 30522\n",
    "Loading tokenized SQuAD dataset as features from /data/home-backup-2021/lg4/CK-TOOLS/dataset-squad-tokenized-converted/bert_tokenized_squad_v1_1.pickle ...\n",
    "Example width: 384\n",
    "Total examples available: 10833\n",
    "Batch #1/10 done\n",
    "…\n",
    "Batch #10/10 done\n",
    "2021-07-06 08:59:06.576548: I tensorflow/stream_executor/platform/default/dso_loader.cc:53] Successfully opened dynamic library libcudart.so.11.0\n",
    "Reading examples...\n",
    "Loading cached features from '/data/home-backup-2021/lg4/CK-TOOLS/dataset-squad-tokenized-converted/bert_tokenized_squad_v1_1.pickle'...\n",
    "Loading LoadGen logs...\n",
    "Post-processing predictions...\n",
    "Writing predictions to: predictions.json\n",
    "Evaluating predictions...\n",
    "<b>{\"exact_match\": 70.0, \"f1\": 70.0}</b>\n",
    "Execution time: 27.620 sec.\n",
    "</pre>"
   ]
  }
 ],
 "metadata": {
  "celltoolbar": "Raw Cell Format",
  "kernelspec": {
   "display_name": "Python 3",
   "language": "python",
   "name": "python3"
  },
  "language_info": {
   "codemirror_mode": {
    "name": "ipython",
    "version": 3
   },
   "file_extension": ".py",
   "mimetype": "text/x-python",
   "name": "python",
   "nbconvert_exporter": "python",
   "pygments_lexer": "ipython3",
   "version": "3.7.4"
  }
 },
 "nbformat": 4,
 "nbformat_minor": 2
}
