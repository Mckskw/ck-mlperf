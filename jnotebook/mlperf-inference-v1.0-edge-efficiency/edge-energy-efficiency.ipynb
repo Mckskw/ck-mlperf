{
 "cells": [
  {
   "cell_type": "markdown",
   "metadata": {},
   "source": [
    "# [PUBLIC] MLPerf&trade; Inference v1.0\n",
    "# Comparing energy efficiency of Edge submissions"
   ]
  },
  {
   "cell_type": "markdown",
   "metadata": {},
   "source": [
    "## Table of Contents\n",
    "\n",
    "1. [Legal notices](#legal)\n",
    "  1. [Power](#legal_power)\n",
    "\n",
    "1. [Systems](#systems)\n",
    "  1. [QUALCOMM Edge AI Development Kit (accelerator TDP 15W)](#systems_aedk_15w)\n",
    "  1. [QUALCOMM Edge AI Development Kit (accelerator TDP 20W)](#systems_aedk_20w)  \n",
    "  1. [NVIDIA Jetson Xavier NX (MaxQ)](#systems_xavier_nx_maxq)\n",
    "  1. [NVIDIA Jetson AGX Xavier 32GB (MaxQ)](#systems_agx_xavier_maxq)\n",
    "  1. [NVIDIA Jetson AGX Xavier 32GB (MAXN)](#systems_agx_xavier_maxn)\n",
    "  \n",
    "1. [Results](#results)"
   ]
  },
  {
   "cell_type": "markdown",
   "metadata": {},
   "source": [
    "## Legal notices\n",
    "\n",
    "### Power\n",
    "\n",
    "Except for the [NVIDIA AGX Xavier 32GB (MAXN) system](#systems_agx_xavier_maxn), all power results were collected using the [SPEC PTDaemon&reg; Interface](https://www.spec.org/power/docs/SPEC-PTDaemon_Design.pdf) integrated into the [MLPerf&trade; Power workflows](https://github.com/mlcommons/power-dev). The results can be viewed in the \"Closed - Power\" tab of the [Inference Edge v1.0 table](https://mlcommons.org/en/inference-edge-10/).\n",
    "\n",
    "For the [NVIDIA AGX Xavier 32GB (MAXN) system](#systems_agx_xavier_maxn), the average power consumption was estimated from the [Yokogawa WT310E](https://cdn.tmi.yokogawa.com/IMWT310E-01EN.pdf) front panel, while [reproducing the corresponding v1.0 submission](https://github.com/krai/ck-mlperf/tree/master/jnotebook/mlperf-inference-v1.0-reproduce-xavier)."
   ]
  },
  {
   "cell_type": "markdown",
   "metadata": {},
   "source": [
    "<a name=\"systems\"></a>\n",
    "## Systems"
   ]
  },
  {
   "cell_type": "markdown",
   "metadata": {},
   "source": [
    "<a name=\"systems_aedk_15w\"></a>\n",
    "### QUALCOMM Edge AI Development Kit (accelerator TDP 15W)\n",
    "\n",
    "[Qualcomm/systems/aedk_15w-qaic-v1.3.14-aic100.json](https://github.com/mlcommons/inference_results_v1.0/blob/master/closed/Qualcomm/systems/aedk_15w-qaic-v1.3.14-aic100.json)"
   ]
  },
  {
   "cell_type": "markdown",
   "metadata": {},
   "source": [
    "<a name=\"systems_aedk_15w\"></a>\n",
    "### QUALCOMM Edge AI Development Kit (accelerator TDP 20W)\n",
    "\n",
    "[Qualcomm/systems/aedk_20w-qaic-v1.3.14-aic100.json](https://github.com/mlcommons/inference_results_v1.0/blob/master/closed/Qualcomm/systems/aedk_20w-qaic-v1.3.14-aic100.json)"
   ]
  },
  {
   "cell_type": "markdown",
   "metadata": {},
   "source": [
    "<a name=\"systems_xavier_nx_maxq\"></a>\n",
    "### NVIDIA Jetson Xavier NX (MaxQ)\n",
    "\n",
    "[NVIDIA/systems/Xavier_NX_TRT_MaxQ.json](https://github.com/mlcommons/inference_results_v1.0/blob/master/closed/NVIDIA/systems/Xavier_NX_TRT_MaxQ.json)"
   ]
  },
  {
   "cell_type": "markdown",
   "metadata": {},
   "source": [
    "<a name=\"systems_agx_xavier_maxq\"></a>\n",
    "### NVIDIA Jetson AGX Xavier 32GB (MaxQ)\n",
    "\n",
    "[NVIDIA/systems/AGX_Xavier_TRT_MaxQ.json](https://github.com/mlcommons/inference_results_v1.0/blob/master/closed/NVIDIA/systems/AGX_Xavier_TRT_MaxQ.json)"
   ]
  },
  {
   "cell_type": "markdown",
   "metadata": {},
   "source": [
    "<a name=\"systems_agx_xavier_max\"></a>\n",
    "### NVIDIA Jetson AGX Xavier 32GB (MAXN)\n",
    "\n",
    "[NVIDIA/systems/AGX_Xavier_TRT.json](https://github.com/mlcommons/inference_results_v1.0/blob/master/closed/NVIDIA/systems/AGX_Xavier_TRT.json)"
   ]
  },
  {
   "cell_type": "markdown",
   "metadata": {},
   "source": [
    "<a name=\"results\"></a>\n",
    "## Results\n",
    "\n",
    "### ResNet50/Offline\n",
    "\n",
    "  1. [QUALCOMM Edge AI Development Kit (accelerator TDP 15W)](#systems_aedk_15w) - [5034.18 samples/second](https://github.com/mlcommons/inference_results_v1.0/blob/master/closed/Qualcomm/results/aedk_15w-qaic-v1.3.14-aic100/resnet50/offline/performance/run_1/mlperf_log_summary.txt#L7)\n",
    "  1. [QUALCOMM Edge AI Development Kit (accelerator TDP 20W)](#systems_aedk_20w) - [7806.90 samples/second](https://github.com/mlcommons/inference_results_v1.0/blob/master/closed/Qualcomm/results/aedk_20w-qaic-v1.3.14-aic100/resnet50/offline/performance/run_1/mlperf_log_summary.txt#L7) \n",
    "  1. [NVIDIA Jetson Xavier NX (MaxQ)](#systems_xavier_nx_maxq) - [1087.68 samples/second](https://github.com/mlcommons/inference_results_v1.0/blob/master/closed/NVIDIA/results/Xavier_NX_TRT_MaxQ/resnet50/Offline/performance/run_1/mlperf_log_summary.txt#L7)\n",
    "  1. [NVIDIA Jetson AGX Xavier 32GB (MaxQ)](#systems_agx_xavier_maxq) - [1403.85 samples/second](https://github.com/mlcommons/inference_results_v1.0/blob/master/closed/NVIDIA/results/AGX_Xavier_TRT_MaxQ/resnet50/Offline/performance/run_1/mlperf_log_summary.txt#L7)\n",
    "  1. [NVIDIA Jetson AGX Xavier 32GB (MAXN)](#systems_agx_xavier_maxn) - [2071.51 samples/second](https://github.com/mlcommons/inference_results_v1.0/blob/master/closed/NVIDIA/results/AGX_Xavier_TRT/resnet50/Offline/performance/run_1/mlperf_log_summary.txt#L7)"
   ]
  },
  {
   "cell_type": "code",
   "execution_count": null,
   "metadata": {},
   "outputs": [],
   "source": [
    "import pandas as pd\n",
    "import matplotlib.pyplot as plt\n",
    "\n",
    "df = pd.DataFrame \\\n",
    "  .from_dict({\n",
    "    'System'      : [ 'NX/MaxQ', 'AGX/MaxQ', 'AGX/MAXN', 'AEDK/15W', 'AEDK/20W' ],\n",
    "    'Performance' : [ 1087.68, 1403.85, 2071.51, 5034.18, 7806.90 ], # Samples per second\n",
    "    'Power'       : [ 19.70, 25.20, 52.00, 27.93, 36.43 ]            # Watts\n",
    "  })\n",
    "df['Performance/Power'] = df['Performance'] / df['Power']\n",
    "df"
   ]
  },
  {
   "cell_type": "code",
   "execution_count": null,
   "metadata": {},
   "outputs": [],
   "source": [
    "ax1=df.plot(kind='scatter', marker='o', x='System', y='Performance', ylim=[0,8500], grid=True, color='DarkBlue')\n",
    "ax2=df.plot(kind='scatter', marker='s', x='System', y='Performance/Power', ylim=[0,250], grid=True, color='Red', secondary_y=False) #, secondary_y=True, ax=ax1)\n",
    "ax1.set_ylabel('inf/sec')\n",
    "ax2.set_ylabel('inf/sec/W')\n",
    "plt.tight_layout()\n",
    "plt.show()"
   ]
  },
  {
   "cell_type": "code",
   "execution_count": null,
   "metadata": {},
   "outputs": [],
   "source": [
    "df['Performance/Power'] / df.loc[2]['Performance/Power']"
   ]
  }
 ],
 "metadata": {
  "kernelspec": {
   "display_name": "Python 3",
   "language": "python",
   "name": "python3"
  },
  "language_info": {
   "codemirror_mode": {
    "name": "ipython",
    "version": 3
   },
   "file_extension": ".py",
   "mimetype": "text/x-python",
   "name": "python",
   "nbconvert_exporter": "python",
   "pygments_lexer": "ipython3",
   "version": "3.8.5"
  }
 },
 "nbformat": 4,
 "nbformat_minor": 2
}
